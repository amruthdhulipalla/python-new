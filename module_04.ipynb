{
  "nbformat": 4,
  "nbformat_minor": 0,
  "metadata": {
    "colab": {
      "name": "module_04.ipynb",
      "provenance": [],
      "collapsed_sections": [],
      "authorship_tag": "ABX9TyPxrBCV3H4trwS0V9jBhYYy",
      "include_colab_link": true
    },
    "kernelspec": {
      "name": "python3",
      "display_name": "Python 3"
    },
    "language_info": {
      "name": "python"
    }
  },
  "cells": [
    {
      "cell_type": "markdown",
      "metadata": {
        "id": "view-in-github",
        "colab_type": "text"
      },
      "source": [
        "<a href=\"https://colab.research.google.com/github/amruthdhulipalla/python-new/blob/module-4/module_04.ipynb\" target=\"_parent\"><img src=\"https://colab.research.google.com/assets/colab-badge.svg\" alt=\"Open In Colab\"/></a>"
      ]
    },
    {
      "cell_type": "code",
      "execution_count": 1,
      "metadata": {
        "id": "lat4X3M9YIOY"
      },
      "outputs": [],
      "source": [
        "import sqlite3 #to import the python package sqlite3"
      ]
    },
    {
      "cell_type": "code",
      "source": [
        "db=sqlite3.connect('test.db')  #to establish a connection to a existing or new databse"
      ],
      "metadata": {
        "id": "W1LUwVXVYUoX"
      },
      "execution_count": 2,
      "outputs": []
    },
    {
      "cell_type": "code",
      "source": [
        "import sqlite3 #import the python database package\n",
        "db=sqlite3.connect('test.db') #connect() fucntion returns a connection object refering to the existing or new database\n",
        "try:\n",
        "  cur=db.cursor() # Cursor() returns cursor object which uses this connection\n",
        "  cur.execute(\"Create table student(StudentID integer   Primary key autoincrement, name text (20) Not null, age Integer, marks Real)\")\n",
        "  #execute() the sql query in a tring parameter\n",
        "  db.commit()  # commit() function commits any pending transction\n",
        "  print(\" table created success displayed message\")\n",
        "except:\n",
        "  print(\"error\")\n",
        "  db.rollback #this function causes a transaction to be rolled back to starting point\n",
        "db.close() #to close the connection"
      ],
      "metadata": {
        "colab": {
          "base_uri": "https://localhost:8080/"
        },
        "id": "3HemJ1N7YcXx",
        "outputId": "7475f5c8-bafe-447d-ae34-32fd94901d4a"
      },
      "execution_count": 3,
      "outputs": [
        {
          "output_type": "stream",
          "name": "stdout",
          "text": [
            " table created success displayed message\n"
          ]
        }
      ]
    },
    {
      "cell_type": "code",
      "source": [
        "#To insert s new record into the table\n",
        "import sqlite3\n",
        "db=sqlite3.connect('test.db')\n",
        "qry=\"insert into student (StudentID, name, age, marks) values(1024,'Swetha', 35, 95)\"\n",
        "try:\n",
        "  cur=db.cursor()\n",
        "  cur.execute(qry)\n",
        "  db.commit()\n",
        "  print(\"onerecord  must be added into table\")\n",
        "except:\n",
        "  print(\"error\")\n",
        "  db.rollback()\n",
        "db.close()"
      ],
      "metadata": {
        "colab": {
          "base_uri": "https://localhost:8080/"
        },
        "id": "IX8v0AQmYnSb",
        "outputId": "cbcfc592-359a-48ea-8f4f-b6cd898d4a95"
      },
      "execution_count": 4,
      "outputs": [
        {
          "output_type": "stream",
          "name": "stdout",
          "text": [
            "onerecord  must be added into table\n"
          ]
        }
      ]
    },
    {
      "cell_type": "code",
      "source": [
        "#To insert two or more than two records into the table\n",
        "import sqlite3\n",
        "db=sqlite3.connect('test.db')\n",
        "qry=\"insert into student (StudentID, name, age, marks) values(?,?,?,?)\"\n",
        "students=[(1001,'Amar',20,56), (1011,'Deepak',25,87)]\n",
        "try:\n",
        "  cur=db.cursor()\n",
        "  cur.executemany(qry,students)\n",
        "#executemany() executes sql query using aset of parameters in the list of tuples\n",
        "  db.commit()\n",
        "  print(\"records  are added into table\")\n",
        "except:\n",
        "  print(\"error\")\n",
        "  db.rollback()\n",
        "db.close()"
      ],
      "metadata": {
        "colab": {
          "base_uri": "https://localhost:8080/"
        },
        "id": "7vulXoNuYti8",
        "outputId": "d0fdc443-d190-4298-cef5-830eea0697d1"
      },
      "execution_count": 5,
      "outputs": [
        {
          "output_type": "stream",
          "name": "stdout",
          "text": [
            "records  are added into table\n"
          ]
        }
      ]
    },
    {
      "cell_type": "code",
      "source": [
        "#To retrieve a record or all records from the table\n",
        "import sqlite3\n",
        "db=sqlite3.connect('test.db')\n",
        "sql=\"Select * from student\"\n",
        "cur=db.cursor()\n",
        "cur.execute(sql)\n",
        "'''while True:\n",
        "  record=cur.fetchone\n",
        "#fetch() -fetch the next row from the rquery result set\n",
        "  if record==None:\n",
        "    break\n",
        "  print(record)'''\n",
        "students=cur.fetchall()\n",
        "for i in students:\n",
        "  print(i)\n",
        "  #fetchall()- fetches all the remaining rows from the query result set"
      ],
      "metadata": {
        "colab": {
          "base_uri": "https://localhost:8080/"
        },
        "id": "koaBf_eHY2Gz",
        "outputId": "86ea93b5-1454-4c83-b997-054f4d2cf554"
      },
      "execution_count": 6,
      "outputs": [
        {
          "output_type": "stream",
          "name": "stdout",
          "text": [
            "(1001, 'Amar', 20, 56.0)\n",
            "(1011, 'Deepak', 25, 87.0)\n",
            "(1024, 'Swetha', 35, 95.0)\n"
          ]
        }
      ]
    },
    {
      "cell_type": "code",
      "source": [
        "#To update a record of the table\n",
        "import sqlite3\n",
        "db=sqlite3.connect('test.db')\n",
        "qry=\"update student set age=?  where name=?\"\n",
        "try:\n",
        "  cur=db.cursor()\n",
        "  cur.execute(qry, (21,'Swetha'))\n",
        "  db.commit()\n",
        "  print(\"record updated succesffully\")\n",
        "except:\n",
        "  print('error')\n",
        "  db.rollback()\n",
        "db.close()"
      ],
      "metadata": {
        "colab": {
          "base_uri": "https://localhost:8080/"
        },
        "id": "FinrhahBZIQN",
        "outputId": "a0ff0877-5cbb-4e24-fb3e-bbb7ac8c476b"
      },
      "execution_count": 7,
      "outputs": [
        {
          "output_type": "stream",
          "name": "stdout",
          "text": [
            "record updated succesffully\n"
          ]
        }
      ]
    },
    {
      "cell_type": "code",
      "source": [
        "#After updating the record , to retrieve the details of the table\n",
        "import sqlite3\n",
        "db=sqlite3.connect('test.db')\n",
        "sql=\"Select * from student\"\n",
        "cur=db.cursor()\n",
        "cur.execute(sql)\n",
        "students=cur.fetchall()\n",
        "for i in students:\n",
        "  print(i)"
      ],
      "metadata": {
        "colab": {
          "base_uri": "https://localhost:8080/"
        },
        "id": "SEZTsVVBZPVm",
        "outputId": "44585476-ed55-4d70-d1b7-081fd40e6019"
      },
      "execution_count": 8,
      "outputs": [
        {
          "output_type": "stream",
          "name": "stdout",
          "text": [
            "(1001, 'Amar', 20, 56.0)\n",
            "(1011, 'Deepak', 25, 87.0)\n",
            "(1024, 'Swetha', 21, 95.0)\n"
          ]
        }
      ]
    },
    {
      "cell_type": "code",
      "source": [
        "#After deleting the record , to retrieve the details of the table\n",
        "import sqlite3\n",
        "db=sqlite3.connect('test.db')\n",
        "sql=\"Select * from student\"\n",
        "cur=db.cursor()\n",
        "cur.execute(sql)\n",
        "students=cur.fetchall()\n",
        "for i in students:\n",
        "  print(i)"
      ],
      "metadata": {
        "colab": {
          "base_uri": "https://localhost:8080/"
        },
        "id": "vwc45gdCZRPe",
        "outputId": "d3bf353d-aade-4c39-f6ef-4fad6ffe7e18"
      },
      "execution_count": 9,
      "outputs": [
        {
          "output_type": "stream",
          "name": "stdout",
          "text": [
            "(1001, 'Amar', 20, 56.0)\n",
            "(1011, 'Deepak', 25, 87.0)\n",
            "(1024, 'Swetha', 21, 95.0)\n"
          ]
        }
      ]
    },
    {
      "cell_type": "code",
      "source": [
        "#To delete a record from the table\n",
        "import sqlite3\n",
        "db=sqlite3.connect('test.db')\n",
        "qry=\"Delete from student where name=?\"\n",
        "try:\n",
        "  cur=db.cursor()\n",
        "  cur.execute(qry, ('Nandini',))\n",
        "  db.commit()\n",
        "  print(\"record  are deleted succesffully\")\n",
        "except:\n",
        "  print('error')\n",
        "  db.rollback()\n",
        "db.close()"
      ],
      "metadata": {
        "colab": {
          "base_uri": "https://localhost:8080/"
        },
        "id": "G1Uea_mRZVKx",
        "outputId": "705070a3-1bed-4b28-e79d-6fc8fe8b5360"
      },
      "execution_count": 10,
      "outputs": [
        {
          "output_type": "stream",
          "name": "stdout",
          "text": [
            "record  are deleted succesffully\n"
          ]
        }
      ]
    }
  ]
}