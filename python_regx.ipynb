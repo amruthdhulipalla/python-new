{
  "nbformat": 4,
  "nbformat_minor": 0,
  "metadata": {
    "colab": {
      "name": "python regx.ipynb",
      "provenance": [],
      "collapsed_sections": [],
      "authorship_tag": "ABX9TyMz+tdLOuOnYsawyH4rr7YC",
      "include_colab_link": true
    },
    "kernelspec": {
      "name": "python3",
      "display_name": "Python 3"
    },
    "language_info": {
      "name": "python"
    }
  },
  "cells": [
    {
      "cell_type": "markdown",
      "metadata": {
        "id": "view-in-github",
        "colab_type": "text"
      },
      "source": [
        "<a href=\"https://colab.research.google.com/github/amruthdhulipalla/python-new/blob/module-4/python_regx.ipynb\" target=\"_parent\"><img src=\"https://colab.research.google.com/assets/colab-badge.svg\" alt=\"Open In Colab\"/></a>"
      ]
    },
    {
      "cell_type": "code",
      "execution_count": null,
      "metadata": {
        "colab": {
          "base_uri": "https://localhost:8080/"
        },
        "id": "0G3OJLDFNACz",
        "outputId": "594c4755-53f8-4f17-858d-3f3e838783d4"
      },
      "outputs": [
        {
          "output_type": "stream",
          "name": "stdout",
          "text": [
            "<re.Match object; span=(11, 17), match='amruth'>\n"
          ]
        }
      ],
      "source": [
        "import re\n",
        "txt=\"my name is amruth\"\n",
        "x=re.search(\"amruth\",txt)\n",
        "print(x)"
      ]
    },
    {
      "cell_type": "code",
      "source": [
        "import re \n",
        "txt = \"my name is amruth\"\n",
        "x=re.search(\"amruth\",txt)\n",
        "if x:\n",
        "  print(\"yes it is a match \")\n",
        "else:\n",
        "    print(\"no it is not match\")"
      ],
      "metadata": {
        "colab": {
          "base_uri": "https://localhost:8080/"
        },
        "id": "bWMYCN-CNdla",
        "outputId": "862d6f0f-366e-42c5-fc5f-1577ea041e06"
      },
      "execution_count": null,
      "outputs": [
        {
          "output_type": "stream",
          "name": "stdout",
          "text": [
            "yes i is a match \n"
          ]
        }
      ]
    },
    {
      "cell_type": "code",
      "source": [
        "import re \n",
        "txt = \"my name is amruth\"\n",
        "x=re.search(\"dhulipalla\",txt)\n",
        "if x:\n",
        "  print(\"yes it is a match \")\n",
        "else:\n",
        "    print(\"no it is not match\")"
      ],
      "metadata": {
        "colab": {
          "base_uri": "https://localhost:8080/"
        },
        "id": "04fm7jV5OEzw",
        "outputId": "82ebca84-8a44-4c64-dd0d-2be71a76d235"
      },
      "execution_count": null,
      "outputs": [
        {
          "output_type": "stream",
          "name": "stdout",
          "text": [
            "no it is not match\n"
          ]
        }
      ]
    },
    {
      "cell_type": "markdown",
      "source": [
        "findall\n"
      ],
      "metadata": {
        "id": "qoctH51-QtTE"
      }
    },
    {
      "cell_type": "code",
      "source": [
        "import re\n",
        "txt = \"To save the saviour Murali Krishna from an evil Varadarajulu's trap, Lord Shiva's ardent devotee, Akhanda, moves heaven and earth.\"\n",
        "x=re.findall(\"ra\",txt)\n",
        "print(x)"
      ],
      "metadata": {
        "colab": {
          "base_uri": "https://localhost:8080/"
        },
        "id": "n6wJSEN6Qu09",
        "outputId": "44cb7cf1-a667-4064-f616-5cb9848b98a8"
      },
      "execution_count": null,
      "outputs": [
        {
          "output_type": "stream",
          "name": "stdout",
          "text": [
            "['ra', 'ra', 'ra', 'ra']\n"
          ]
        }
      ]
    },
    {
      "cell_type": "code",
      "source": [
        "import re\n",
        "txt = \"To save the saviour Murali Krishna from an evil Varadarajulu's 25 trap, Lord Shiva's ardent devotee, Akhanda, moves heaven and earth.\"\n",
        "x=re.findall(\"25\",txt)\n",
        "print(x)"
      ],
      "metadata": {
        "colab": {
          "base_uri": "https://localhost:8080/"
        },
        "id": "TBrm7jf2REnW",
        "outputId": "1c873163-240d-41fe-902d-a3e1fe26894d"
      },
      "execution_count": null,
      "outputs": [
        {
          "output_type": "stream",
          "name": "stdout",
          "text": [
            "['25']\n"
          ]
        }
      ]
    },
    {
      "cell_type": "markdown",
      "source": [
        "search()"
      ],
      "metadata": {
        "id": "kf5IjsiKRbUl"
      }
    },
    {
      "cell_type": "code",
      "source": [
        "import re\n",
        "\n",
        "txt = \"To save the saviour Murali Krishna from an evil Varadarajulu's 25 trap, Lord Shiva's ardent devotee, Akhanda, moves heaven and earth.\"\n",
        "x = re.search(\"save\", txt)\n",
        "print(x)"
      ],
      "metadata": {
        "colab": {
          "base_uri": "https://localhost:8080/"
        },
        "id": "jEbOMsOARdoX",
        "outputId": "91bb48d1-026e-48dc-b79a-b8e32746509e"
      },
      "execution_count": null,
      "outputs": [
        {
          "output_type": "stream",
          "name": "stdout",
          "text": [
            "<re.Match object; span=(3, 7), match='save'>\n"
          ]
        }
      ]
    },
    {
      "cell_type": "code",
      "source": [
        "import re \n",
        "txt =\"To save the saviour Murali Krishna from an evil Varadarajulu's 25 trap, Lord Shiva's ardent devotee, Akhanda, moves heaven and earth.\"\n",
        "z=re.search(\"\\s\",txt)\n",
        "print(z.start())"
      ],
      "metadata": {
        "colab": {
          "base_uri": "https://localhost:8080/"
        },
        "id": "pUxipuYZR5-F",
        "outputId": "6c08a7cd-080c-40b9-ec0b-0e934d0d844c"
      },
      "execution_count": null,
      "outputs": [
        {
          "output_type": "stream",
          "name": "stdout",
          "text": [
            "2\n"
          ]
        }
      ]
    },
    {
      "cell_type": "markdown",
      "source": [
        "split()"
      ],
      "metadata": {
        "id": "CobwWyzYSlWe"
      }
    },
    {
      "cell_type": "code",
      "source": [
        "txt = \"To save the saviour Murali Krishna from an evil Varadarajulu's 25 trap, Lord Shiva's ardent devotee, Akhanda, moves heaven and earth.\"\n",
        "x = re.split(\" \", txt)\n",
        "print(x)\n"
      ],
      "metadata": {
        "colab": {
          "base_uri": "https://localhost:8080/"
        },
        "id": "lqFrzrR8S-4J",
        "outputId": "8536d113-ce03-4ccc-c3db-c2900b0a7862"
      },
      "execution_count": null,
      "outputs": [
        {
          "output_type": "stream",
          "name": "stdout",
          "text": [
            "['To', 'save', 'the', 'saviour', 'Murali', 'Krishna', 'from', 'an', 'evil', \"Varadarajulu's\", '25', 'trap,', 'Lord', \"Shiva's\", 'ardent', 'devotee,', 'Akhanda,', 'moves', 'heaven', 'and', 'earth.']\n"
          ]
        }
      ]
    },
    {
      "cell_type": "code",
      "source": [
        "\n",
        "import re\n",
        "txt= \"amruth is gopod one \"\n",
        "x = re.findall(\"[arn]\", txt)\n",
        "\n",
        "print(x)\n"
      ],
      "metadata": {
        "colab": {
          "base_uri": "https://localhost:8080/"
        },
        "id": "tQCVMDRz2JAh",
        "outputId": "afd66b93-b894-40e1-da8e-f0bd770b27b0"
      },
      "execution_count": 1,
      "outputs": [
        {
          "output_type": "stream",
          "name": "stdout",
          "text": [
            "['a', 'r', 'n']\n"
          ]
        }
      ]
    },
    {
      "cell_type": "code",
      "source": [
        "import re\n",
        "\n",
        "txt = \"The rain in Spain\"\n",
        "\n",
        "#Check if the string has other characters than a, r, or n:\n",
        "\n",
        "x = re.findall(\"[^arn]\", txt)\n",
        "\n",
        "print(x)\n",
        "\n",
        "if x:\n",
        "  print(\"Yes, there is at least one match!\")\n",
        "else:\n",
        "  print(\"No match\")\n"
      ],
      "metadata": {
        "id": "i9t19EwJUikW",
        "colab": {
          "base_uri": "https://localhost:8080/"
        },
        "outputId": "7549a923-d823-4efa-d020-9a0be95e90d5"
      },
      "execution_count": null,
      "outputs": [
        {
          "output_type": "stream",
          "name": "stdout",
          "text": [
            "['T', 'h', 'e', ' ', 'i', ' ', 'i', ' ', 'S', 'p', 'i']\n",
            "Yes, there is at least one match!\n"
          ]
        }
      ]
    },
    {
      "cell_type": "markdown",
      "source": [
        "[a-n]\n"
      ],
      "metadata": {
        "id": "AeebCYGw1b8L"
      }
    },
    {
      "cell_type": "code",
      "source": [
        "\n",
        "import re\n",
        "txt= \"amruth is gopod one \"\n",
        "x = re.findall(\"[a-n]\", txt)\n",
        "\n",
        "print(x)\n"
      ],
      "metadata": {
        "colab": {
          "base_uri": "https://localhost:8080/"
        },
        "id": "9D0JFtp21eRi",
        "outputId": "8fb49840-08ff-4478-93ae-3b7f8a156930"
      },
      "execution_count": 2,
      "outputs": [
        {
          "output_type": "stream",
          "name": "stdout",
          "text": [
            "['a', 'm', 'h', 'i', 'g', 'd', 'n', 'e']\n"
          ]
        }
      ]
    },
    {
      "cell_type": "markdown",
      "source": [
        "split\n"
      ],
      "metadata": {
        "id": "fQStIEey1_Gk"
      }
    },
    {
      "cell_type": "code",
      "source": [
        "txt = \"The rain in Spain and in the house of rome why becoz he got angry\"\n",
        "x = re.split(\"\\s\", txt, 5)\n",
        "print(x)\n"
      ],
      "metadata": {
        "colab": {
          "base_uri": "https://localhost:8080/"
        },
        "id": "BhvIAsK42AUT",
        "outputId": "7194df6e-9176-488f-93d9-f0c5f5dabe8d"
      },
      "execution_count": 4,
      "outputs": [
        {
          "output_type": "stream",
          "name": "stdout",
          "text": [
            "['The', 'rain', 'in', 'Spain', 'and', 'in the house of rome why becoz he got angry']\n"
          ]
        }
      ]
    },
    {
      "cell_type": "markdown",
      "source": [
        "sub()"
      ],
      "metadata": {
        "id": "r7QzlA5n2deU"
      }
    },
    {
      "cell_type": "code",
      "source": [
        "import re\n",
        "\n",
        "txt = \"The rain in Spain and in the house of rome why becoz he got angry\"\n",
        "x = re.sub(\"\\s\", \"9\", txt,5)\n",
        "print(x)"
      ],
      "metadata": {
        "colab": {
          "base_uri": "https://localhost:8080/"
        },
        "id": "1w5wJRpS2exa",
        "outputId": "ff6a369d-3430-4af3-b31e-25039d3c43e4"
      },
      "execution_count": 6,
      "outputs": [
        {
          "output_type": "stream",
          "name": "stdout",
          "text": [
            "The9rain9in9Spain9and9in the house of rome why becoz he got angry\n"
          ]
        }
      ]
    },
    {
      "cell_type": "markdown",
      "source": [
        "Write a Python program that matches a string that has an a followed by zero or more b's"
      ],
      "metadata": {
        "id": "gteMtzD45GyT"
      }
    },
    {
      "cell_type": "code",
      "source": [
        "import re\n",
        "\n",
        "txt = \"8 times 2  before 11:45 AM\"\n",
        "\n",
        "\n",
        "\n",
        "b = re.findall(\"[0-9]\", txt)\n",
        "\n",
        "if x:\n",
        "  print(\"Yes, there is at least one match!\")\n",
        "else:\n",
        "  print(\"No match\")\n",
        "\n",
        "\n",
        "\n",
        "print(b)\n",
        "x= re.findall(\"[b]\",txt)\n",
        "if x:\n",
        "  print(\"Yes, there is at least one match!\")\n",
        "else:\n",
        "  print(\"No match\")\n",
        "  print(x)\n"
      ],
      "metadata": {
        "colab": {
          "base_uri": "https://localhost:8080/"
        },
        "id": "7CIXhrUF5H4F",
        "outputId": "560944ab-f585-4261-a91c-aee9b1ae564d"
      },
      "execution_count": 21,
      "outputs": [
        {
          "output_type": "stream",
          "name": "stdout",
          "text": [
            "Yes, there is at least one match!\n",
            "['8', '2', '1', '1', '4', '5']\n",
            "Yes, there is at least one match!\n"
          ]
        }
      ]
    },
    {
      "cell_type": "markdown",
      "source": [
        "Write a Python program to check that a string contains only a certain set of characters (in this\n",
        "case a-z, A-Z and 0-9)"
      ],
      "metadata": {
        "id": "nJHfE2F76g3T"
      }
    },
    {
      "cell_type": "code",
      "source": [
        "import re\n",
        "\n",
        "txt = \"The rain 0 in 9 Spain\"\n",
        "\n",
        "\n",
        "\n",
        "x = re.findall(\"\\w\", txt)\n",
        "\n",
        "print(x)\n",
        "\n",
        "if x:\n",
        "  print(\"Yes, there is at least one match!\")\n",
        "else:\n",
        "  print(\"No match\")\n"
      ],
      "metadata": {
        "colab": {
          "base_uri": "https://localhost:8080/"
        },
        "id": "ZgMSHmQ56hnb",
        "outputId": "8ad69a17-7ddf-47e0-f5fe-83badba0649d"
      },
      "execution_count": 14,
      "outputs": [
        {
          "output_type": "stream",
          "name": "stdout",
          "text": [
            "['T', 'h', 'e', 'r', 'a', 'i', 'n', '0', 'i', 'n', '9', 'S', 'p', 'a', 'i', 'n']\n",
            "Yes, there is at least one match!\n"
          ]
        }
      ]
    },
    {
      "cell_type": "markdown",
      "source": [
        "Write a Python program that matches a string that has an a followed by one or more b's\n"
      ],
      "metadata": {
        "id": "5bHn8vEG7wCM"
      }
    },
    {
      "cell_type": "code",
      "source": [
        "txt=\"i ama hyuujiki 2 grtb 8 \"\n",
        "x = re.findall(\"\\wb\", txt)\n",
        "\n",
        "print(x)\n",
        "\n",
        "if x:\n",
        "  print(\"Yes, there is at least one match!\")\n",
        "else:\n",
        "  print(\"No match\")\n"
      ],
      "metadata": {
        "colab": {
          "base_uri": "https://localhost:8080/"
        },
        "id": "AYKYt30I7w8E",
        "outputId": "bc55c1d0-3a5a-4d36-b663-bdb434a9f3d3"
      },
      "execution_count": 23,
      "outputs": [
        {
          "output_type": "stream",
          "name": "stdout",
          "text": [
            "['tb']\n",
            "Yes, there is at least one match!\n"
          ]
        }
      ]
    }
  ]
}